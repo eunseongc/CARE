{
 "cells": [
  {
   "cell_type": "code",
   "execution_count": 2,
   "id": "3cb7bd8c",
   "metadata": {},
   "outputs": [],
   "source": [
    "templates_for_qa = [\n",
    "    \"Question: {question}?\\nAnswer:\",\n",
    "    \"{question}?\",\n",
    "    \"Answer the following question:\\n\\n{question}\",\n",
    "    \"Answer this question:\\n\\n{question}?\",\n",
    "    \"Please answer this question: {question}\",\n",
    "    \"Answer the question...{question}?\",\n",
    "    \"What is the answer to this question? {question}\\n\\n\",\n",
    "    \"Can you tell me the answer to {question}?\",\n",
    "    \"Next question: {question}\\n\\n\",\n",
    "    \"Q: {question} A:\",\n",
    "    \"{question}\\nWhat is the answer?\",\n",
    "    \"Write the answer: {question}\",\n",
    "    \"{question}???\",\n",
    "]\n",
    "background_templete = \"Question: {question}\\n Document: {background}\"\n"
   ]
  },
  {
   "cell_type": "code",
   "execution_count": null,
   "id": "5d21636a",
   "metadata": {},
   "outputs": [
    {
     "name": "stderr",
     "output_type": "stream",
     "text": [
      "/opt/conda/lib/python3.11/site-packages/tqdm/auto.py:21: TqdmWarning: IProgress not found. Please update jupyter and ipywidgets. See https://ipywidgets.readthedocs.io/en/stable/user_install.html\n",
      "  from .autonotebook import tqdm as notebook_tqdm\n",
      "Downloading readme: 8.77kB [00:00, 11.5MB/s]\n",
      "Downloading data: 100%|██████████| 4.46M/4.46M [00:00<00:00, 4.82MB/s]\n",
      "Downloading data: 100%|██████████| 214k/214k [00:00<00:00, 474kB/s]\n",
      "Generating train split: 100%|██████████| 87925/87925 [00:00<00:00, 2130112.11 examples/s]\n",
      "Generating validation split: 100%|██████████| 3610/3610 [00:00<00:00, 704351.19 examples/s]\n"
     ]
    }
   ],
   "source": [
    "from datasets import load_dataset\n",
    "import random\n",
    "from src.eval.utils import has_answer , get_substring_match_score\n",
    "import json\n",
    "from tqdm import tqdm\n",
    "\n",
    "model_name = 'mistral' # llama, mistral, qwen\n",
    "\n",
    "## question , answer pair\n",
    "dataset = load_dataset(\"nq_open\")\n",
    "\n",
    "## retrieved contexts from ColBERT/ background, gt_background, hn_background\n",
    "## hugginface repo: eunseong/nq_colbertv2\n",
    "## hf download eunseong/nq_colbertv2 --repo-type dataset --local-dir nq_colbertv2\n",
    "ret_file_path = 'data_care/nq_colbertv2.json'\n",
    "with open(ret_file_path, 'r') as f:\n",
    "    ret_data = json.load(f)\n",
    "    \n",
    "## generation results target model / closed_book_correct\n",
    "## NOTE: We need to generate closed-book results from the target model\n",
    "## e.g., nq_train_closed_book_mistral.json / use evaluate_closedbook.sh\n",
    "model_output_path = f'ft_results/nq_train_closed_book_{model_name}.json'\n",
    "with open(model_output_path, 'r') as f:\n",
    "    generated_data = json.load(f)\n",
    "    \n",
    "preds = []\n",
    "answers = [x['answer'] for x in generated_data]\n",
    "for d in generated_data:\n",
    "    preds.append(d['pred'])\n",
    "_, score_per_sample = get_substring_match_score(preds,answers)"
   ]
  },
  {
   "cell_type": "code",
   "execution_count": 5,
   "id": "c60a57a9",
   "metadata": {},
   "outputs": [
    {
     "name": "stderr",
     "output_type": "stream",
     "text": [
      "  0%|          | 100/87925 [00:00<04:56, 295.79it/s]\n"
     ]
    }
   ],
   "source": [
    "total_data = []\n",
    "for idx, (sample, ret_sample, s) in enumerate(tqdm(zip(dataset['train'] , ret_data , score_per_sample), total=len(ret_data))):\n",
    "    cur= {}\n",
    "    messages = []\n",
    "    answer = sample['answer']\n",
    "    question = sample['question']\n",
    "    question = random.choice(templates_for_qa).format_map(dict(question=question))\n",
    "    \n",
    "    #messages \n",
    "    messages.append({\"role\": \"user\",\"content\": question})\n",
    "    messages.append({\"role\": \"assistant\",\"content\": answer[0]})\n",
    "    \n",
    "    cur = {\n",
    "        \"id\": f\"nq_{idx}\",\n",
    "        \"hn_background_id\": f\"hn_nq_{idx}\",\n",
    "        \"gt_background_id\": f\"nq_{idx}\",\n",
    "        \"messages\": messages,\n",
    "        \"task_type\": \"open_qa\",\n",
    "        \"answers\": answer\n",
    "    }\n",
    "    # background, hn_background, gt_background\n",
    "    ctxs = ret_sample['ctxs']\n",
    "    for ctx in ctxs:\n",
    "        is_pos = has_answer(answer, ctx['text']) \n",
    "        if is_pos and 'gt_background' not in cur:\n",
    "            cur['gt_background'] = ctx['text']\n",
    "            cur['background'] = background_templete.format_map(dict(question=sample['question'], background=ctx['text']))\n",
    "        elif not is_pos and 'hn_background' not in cur:\n",
    "            cur['hn_background'] = background_templete.format_map(dict(question=sample['question'], background=ctx['text']))\n",
    "        elif 'hn_background' in cur and 'gt_background' in cur:\n",
    "            break\n",
    "    \n",
    "    if 'gt_background' not in cur:\n",
    "        cur['gt_background'] = ctxs[1]['text']\n",
    "        cur['background'] = background_templete.format_map(dict(question=sample['question'], background = ctxs[1]['text']))    \n",
    "    if 'hn_background' not in cur:\n",
    "        cur['hn_background'] =  background_templete.format_map(dict(question=sample['question'], background = ctxs[1]['text']))    \n",
    "    cur['closed_book_correct'] = s==1\n",
    "    total_data.append(cur)\n",
    "        "
   ]
  },
  {
   "cell_type": "code",
   "execution_count": null,
   "id": "b857af27",
   "metadata": {},
   "outputs": [
    {
     "name": "stdout",
     "output_type": "stream",
     "text": [
      "79133 8792\n"
     ]
    }
   ],
   "source": [
    "# split into train/val/test\n",
    "random.seed(42)\n",
    "random.shuffle(total_data)\n",
    "\n",
    "split_idx = int(len(total_data) * 0.1)\n",
    "valid_data = total_data[:split_idx]\n",
    "train_data = total_data[split_idx:]\n",
    "\n",
    "## save train / valudation\n",
    "train_data_path = 'train_file_path'\n",
    "with open(train_data_path, 'w') as f:\n",
    "    for item in train_data:\n",
    "        f.write(json.dumps(item) + '\\n')\n",
    "        \n",
    "val_data_path = 'valid_file_path'\n",
    "with open(val_data_path, 'w') as f:\n",
    "    for item in valid_data:\n",
    "        item['id'] = f\"valid_{item['id']}\"\n",
    "        f.write(json.dumps(item) + '\\n')"
   ]
  }
 ],
 "metadata": {
  "kernelspec": {
   "display_name": "base",
   "language": "python",
   "name": "python3"
  },
  "language_info": {
   "codemirror_mode": {
    "name": "ipython",
    "version": 3
   },
   "file_extension": ".py",
   "mimetype": "text/x-python",
   "name": "python",
   "nbconvert_exporter": "python",
   "pygments_lexer": "ipython3",
   "version": "3.11.9"
  }
 },
 "nbformat": 4,
 "nbformat_minor": 5
}
